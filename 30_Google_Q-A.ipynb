{
 "cells": [
  {
   "cell_type": "markdown",
   "metadata": {},
   "source": [
    "<a id=\"1.Summary\"></a>\n",
    "# 1.Summary"
   ]
  },
  {
   "cell_type": "markdown",
   "metadata": {},
   "source": [
    "- https://www.kaggle.com/c/google-quest-challenge\n",
    "- BERT https://zhuanlan.zhihu.com/p/269516862"
   ]
  },
  {
   "cell_type": "markdown",
   "metadata": {},
   "source": [
    "- 1.EDA\n",
    "- 2.Preprocess data\n",
    "- 3.Classify\n",
    "- 4."
   ]
  },
  {
   "cell_type": "markdown",
   "metadata": {},
   "source": [
    "Typically, we have a Q&A dataset and there are 30+ columns `[0,1]` data coming from human evaluation."
   ]
  },
  {
   "cell_type": "markdown",
   "metadata": {},
   "source": [
    "<a id=\"2.Table of Contents\"></a>\n",
    "# 2.Tabole of Contents\n",
    "<a href=\"#1.Summary\">Click this Link back to Top</a>"
   ]
  },
  {
   "cell_type": "markdown",
   "metadata": {},
   "source": [
    "<ol>\n",
    "    <li><a href=\"#1.Summary\">Summary</a></li>\n",
    "    <li><a href=\"#2.Tabole of Contents\">Tabole of Contents</a></li>\n",
    "    <li><a href=\"#3.Import Packages\">Import Packages</a></li>\n",
    "    <li><a href=\"#4.Preprocess\">Preprocess</a></li>\n",
    "    <ul>\n",
    "       <li><a href=\"#4.1 Import Data\">4.1 Import Data</a></li>\n",
    "       <li><a href=\"#4.2 Clean Data\">4.2 Clean Data</a></li> \n",
    "    </ul>\n",
    "    <li><a href=\"#5.EDA\">EDA</a></li>\n",
    "    <ul>\n",
    "       <li><a href=\"#5.1 Model_A\">5.1 Model_A</a></li>\n",
    "       <li><a href=\"#5.2 Model_B\">5.2 Model_B</a></li> \n",
    "       <li><a href=\"#5.3 Model_C\">5.3 Model_C</a></li>\n",
    "       <li><a href=\"#5.4 Split and Fit\">5.4 Split and Fit</a></li>\n",
    "       <li><a href=\"#5.5 Main_Function\">5.5 Main_Function</a></li> \n",
    "       <li><a href=\"#5.6 Plot and Analysis\">5.6 Plot and Analysis</a></li> \n",
    "    </ul>\n",
    "    <li><a href=\"#6.Task 3: Fight overfitting\">Task 3: Fight overfitting</a></li>\n",
    "    <ul>\n",
    "       <li><a href=\"#6.1 Model B1 (Dropout)\">6.1 Model B1 (Dropout)</a></li>\n",
    "       <li><a href=\"#6.2 Model B2 (L2)\">6.2 Model B2 (L2)</a></li> \n",
    "       <li><a href=\"#6.3 Model B3 (Dropout+L2)\">6.3 Model B3 (Dropout+L2)</a></li>\n",
    "       <li><a href=\"#6.4 Fit\">6.4 Fit</a></li> \n",
    "       <li><a href=\"#6.5 Plot and Analysis\">6.5 Plot and Analysis</a></li> \n",
    "    </ul>\n",
    "    <li><a href=\"#7.Task 4: NN for regression task\">Task 4: NN for regression task</a></li>\n",
    "    <li><a href=\"#8.Task 5: NN for multi-classification task\">Task 5: NN for multi-classification task</a></li>\n",
    "    <li><a href=\"#9.Main Function\">Main Function</a></li>\n",
    "    <li><a href=\"#10.Unused Code\">Unused Code</a></li>\n",
    "</ol>"
   ]
  },
  {
   "cell_type": "markdown",
   "metadata": {},
   "source": [
    "<br>"
   ]
  },
  {
   "cell_type": "markdown",
   "metadata": {},
   "source": [
    "<a id=\"3.Import Packages\"></a>\n",
    "# 3.Import Packages\n",
    "<a href=\"#2.Table of Contents\">Click this Link back to Top</a>"
   ]
  },
  {
   "cell_type": "code",
   "execution_count": 110,
   "metadata": {},
   "outputs": [],
   "source": [
    "# most of data we will store in \n",
    "import pandas as pd\n",
    "import numpy as np\n",
    "\n",
    "# use regex to extract text\n",
    "import re\n",
    "# using copy to duplicate\n",
    "import copy\n",
    "# recording each step runing time\n",
    "import time\n",
    "# corpus will be string format\n",
    "import string\n",
    "# the easiest way to get text is using bs4 to get only text\n",
    "from bs4 import BeautifulSoup\n",
    "# make picture\n",
    "import matplotlib.pyplot as plt\n",
    "# draw picture\n",
    "import seaborn as sns\n",
    "\n",
    "\n",
    "# one of tokenize method\n",
    "from sklearn.feature_extraction.text import TfidfVectorizer\n",
    "# split data with random seed (37)\n",
    "from sklearn.model_selection import train_test_split\n",
    "\n",
    "# at EDA get Tokenizer info for deciding hyperparameters\n",
    "from tensorflow.keras.preprocessing.text import Tokenizer\n",
    "# add padding to a tokenized sequence\n",
    "from tensorflow.keras.preprocessing.sequence import pad_sequences\n",
    "# input all the layers we might use \n",
    "from tensorflow.keras.layers import Embedding, Dense, Conv1D, MaxPooling1D, \\\n",
    "Dropout, Activation, Input, Flatten, Concatenate, LSTM, GlobalAveragePooling1D\n",
    "# do not use sequential to build model\n",
    "from tensorflow.keras import Model\n",
    "# need specify lr in optiizer\n",
    "from tensorflow.keras import optimizers\n",
    "\n",
    "import tensorflow as tf"
   ]
  },
  {
   "cell_type": "markdown",
   "metadata": {},
   "source": [
    "<br>"
   ]
  },
  {
   "cell_type": "markdown",
   "metadata": {},
   "source": [
    "<a id=\"4.Preprocess\"></a>\n",
    "# 4.Preprocess\n",
    "<a href=\"#2.Table of Contents\">Click this Link back to Top</a>"
   ]
  },
  {
   "cell_type": "markdown",
   "metadata": {},
   "source": [
    "The list of 30 target labels are the same as the column names in the sample_submission.csv file. Target labels with the prefix <code>question_</code> relate to the <code>question_title</code> and/or <code>question_body</code> features in the data. Target labels with the prefix <code>answer_</code> relate to the <code>answer</code> feature."
   ]
  },
  {
   "cell_type": "markdown",
   "metadata": {},
   "source": [
    "<a id=\"4.1 Import Data\"></a>\n",
    "### 4.1 Import Data\n",
    "<a href=\"#2.Table of Contents\">Click this Link back to Top</a>"
   ]
  },
  {
   "cell_type": "code",
   "execution_count": 87,
   "metadata": {},
   "outputs": [],
   "source": [
    "class preprocess_data(object):\n",
    "    \"\"\"\n",
    "    Because this data have two components, so we first preprocess it and then return raw and corpus to do EDA\n",
    "    We also need to use preprocee to estimate hyperparameters\n",
    "    \"\"\"\n",
    "    def __init__(self):\n",
    "        None\n",
    "    \n",
    "    def import_data(self,path):\n",
    "        \"\"\"\n",
    "        \n",
    "        \n",
    "        \"\"\"\n",
    "        # read the raw unpreprocess data into df_raw\n",
    "        df_raw = pd.read_csv(path)\n",
    "        # first we need extract the X(data) part and y(label) part.\n",
    "        # In this dataset, columns from \"qa_id\" to \"host\" will be X(data)\n",
    "        # columns from \"question_asker_intent_understanding\" to \"answer_will_written\" are human label result which is numerical betwenn [0,1]\n",
    "        # \n",
    "        X_df = df_raw.iloc[:,0:10]\n",
    "        y_df = df_raw.iloc[:,11:]\n",
    "        \n",
    "        # we classify question_title and question_body in X_question_df, question_ related columns into y_question_df, this is X y for one task\n",
    "        # we classify answer in X_answer, answer_ related column into y_answer_df. This is X and y for another task\n",
    "        # maybe we need sometime consider questoin and answer together\n",
    "        # i believe user info have no contribution with this task\n",
    "        # construct DataFrame \n",
    "        self.X_question_df = df_raw.loc[:,['qa_id', 'question_title', 'question_body','category','host']]\n",
    "        self.X_answer_df = df_raw.loc[:,['qa_id','answer','category','host']]\n",
    "        \n",
    "        # initial label list\n",
    "        y_question_list = []\n",
    "        y_answer_list = []\n",
    "        for idx, i in enumerate(y_df.columns):\n",
    "            if \"question_\" in i:\n",
    "                y_question_list.append(i)\n",
    "            elif \"answer_\" in i:\n",
    "                y_answer_list.append(i)\n",
    "            else:\n",
    "                continue\n",
    "                \n",
    "        # extract label of question\n",
    "        self.y_question_df = df_raw[y_question_list]\n",
    "        self.y_answer_df = df_raw[y_answer_list]\n",
    "        # So, for now, we have two pair of dataset, firt is (X_question_df + y_question_df). Second is (X_answer_df + y_answer_df)\n",
    "        \n",
    "        #for question part, i think we need a new column for merge title and body, but we still reserve seperate column\n",
    "        self.X_question_df['question'] = self.X_question_df['question_title'] + self.X_question_df['question_body']\n",
    "        \n",
    "        return df_raw, self.X_question_df, self.X_answer_df, self.y_question_df, self.y_answer_df"
   ]
  },
  {
   "cell_type": "markdown",
   "metadata": {},
   "source": [
    "<a id=\"4.2 Clean Data\"></a>\n",
    "### 4.2 Clean Data\n",
    "<a href=\"#2.Table of Contents\">Click this Link back to Top</a>"
   ]
  },
  {
   "cell_type": "code",
   "execution_count": 5,
   "metadata": {},
   "outputs": [],
   "source": [
    "class clean_data(object):\n",
    "    def __init__(self):\n",
    "        \"\"\"\n",
    "        \"\"\"\n",
    "        None\n",
    "\n",
    "    def clean_process(self, df, column_1, punctuation_fun = True, stopwords_fun = False):\n",
    "        \"\"\"\n",
    "        I have reserve several interface and options to response different scenarios\n",
    "        \n",
    "        steps\n",
    "        1.lowercase()\n",
    "        2.remove special puncuation and symbol\n",
    "        4.remove string puncuation\n",
    "        5.only reserve words\n",
    "        6.remove stop words(if we eliminate most frequcen word, do we still this? and did this affect LSTM?) so i put a switch\n",
    "\n",
    "        Argus:\n",
    "        -----\n",
    "        df:DataFrame\n",
    "            Input come from import_data() [column_1] is the columns that need corpus,\n",
    "        column_1:string\n",
    "            the name of column we need clean\n",
    "        stopwrods_fun:boolen\n",
    "            True, remove stopwords; False, do not remove stopwords\n",
    "\n",
    "\n",
    "        Return:\n",
    "        ------\n",
    "        courpus_df:DataFrame\n",
    "            Because we use apply(lambda) to process each cell in DataFrame, so output is still that DataFrame\n",
    "        \"\"\"\n",
    "        print(\"*\"*50,\"Start Clean data\", \"*\"*50)\n",
    "        start_time = time.time()\n",
    "        #original datatype is serise, first transfrom to string and get lower() case text\n",
    "        corpus = df[column_1].str.lower()\n",
    "\n",
    "        # Because we don't have html characters,we don't need this part\n",
    "        # using bs4 to eliminate html\n",
    "        #soup = BeautifulSoup(corpus_2, 'lxml')\n",
    "        #corpus_3 = soup.get_text()\n",
    "        corpus = corpus.apply(lambda x: self.remove_html(x))\n",
    "        # any speical punctuation in filter sring should add \"\\\" before it\n",
    "        # This line is a compensation for remove_pun, if we puncturation_fun==False, which means we want to reserve some meanningfol\n",
    "        # symbols, we can use this seperate function to remove those meaningless symbols\n",
    "        corpus = corpus.apply(lambda x: self.remove_regex(x))\n",
    "\n",
    "        # if punctuation_fun == True, we remove punctuation. \n",
    "        #In this step, further we maybe need seperate them to keep question mark for represent some meaning\n",
    "        if punctuation_fun:\n",
    "            # use sring.puncutation to eliminate, but we should first remove url. I believe this should be last step\n",
    "            corpus = corpus.apply(lambda x: self.remove_pun(x))\n",
    "\n",
    "        # this is last safeguard for clean_data process. This function literally only extract \n",
    "        # only reserve words\n",
    "        pattern=r'[a-zA-Z][-._a-zA-Z]*[a-zA-Z]'\n",
    "        corpus = [\" \".join(re.findall(pattern, x)) for x in corpus]\n",
    "\n",
    "\n",
    "        if stopwords_fun:\n",
    "            # remove stop words\n",
    "            corpus_list = []\n",
    "            for sentence in tqdm(corpus_6):\n",
    "                corpus_list.append(self.remove_stopwords(sentence))\n",
    "    #         corpus_7 = corpus_6.apply(lambda x: remove_stopwords(x))\n",
    "    #         corpus_7 = [remove_stopwords(x) for x in corpus_6]\n",
    "            corpus = np.array(corpus_list)\n",
    "            \n",
    "#         # ********************improve strategy***************************** \n",
    "#         # due to this is very small, perhaps add stem and lemmanization will be better\n",
    "#         # According to Pro Liu, this step is not necessary\n",
    "#         # ********************improve strategy***************************** \n",
    "        \n",
    "        \n",
    "        #we sitll need to manipulate with index because it contain important relationship between corpus and claasify\n",
    "        #list to pd.Series\n",
    "#         corpus_8 = pd.Series(np.array(corpus))\n",
    "        df['cleaned'] = pd.Series(np.array(corpus))\n",
    "\n",
    "        cost_time = round((time.time()- start_time),4)\n",
    "        print(\"*\"*40,\"End clean_data() with {} second\".format(cost_time), \"*\"*40, end='\\n\\n')\n",
    "        \n",
    "\n",
    "\n",
    "        return df\n",
    "\n",
    "    def remove_pun(self, text):\n",
    "        \"\"\"\n",
    "        The reason i use seperate function is that pandas.apply can manipulate with column value. \n",
    "        If we use loop directly, we will get a join corpus without paragraph structure\n",
    "        \"\"\"\n",
    "        no_pun = \"\".join([c for c in text if c not in string.punctuation])\n",
    "        return no_pun\n",
    "\n",
    "    def remove_html(self, text):\n",
    "        \"\"\"\n",
    "        Use bs4 to extract text\n",
    "        \"\"\"\n",
    "        soup = BeautifulSoup(text, 'lxml')\n",
    "        no_html = soup.get_text()\n",
    "        return no_html\n",
    "\n",
    "    def remove_regex(self, text):\n",
    "        \"\"\"\n",
    "        It was designed to remove special punctuation and character which we can't manipulate with string.puncutation effectively\n",
    "        #             #!\"#$%&()*\\+,-./:;<=>\\?@\\[\\\\\\]^_`{|}~\\\\t\\\\n\\\\r\\“\n",
    "        \"\"\"\n",
    "        #remove url\n",
    "        no_reg = re.sub(r'^https?:\\/\\/.*[\\r\\n]*', '', text)\n",
    "        #remove numbers\n",
    "        no_reg = re.sub('\\w*\\d\\w*', '', no_reg)\n",
    "        return no_reg\n",
    "\n",
    "    def remove_stopwords(self, sentence):\n",
    "        stop_words_set = set(stopwords.words(\"english\"))\n",
    "        no_stopwords = \" \".join([word for word in sentence.split(\" \") if not word in stop_words_set])\n",
    "    #     for word in text:\n",
    "    #         if word not in stopwords.words(\"english\"):\n",
    "    #             output = output + \" \" + word\n",
    "        return no_stopwords"
   ]
  },
  {
   "cell_type": "code",
   "execution_count": null,
   "metadata": {},
   "outputs": [],
   "source": []
  },
  {
   "cell_type": "code",
   "execution_count": null,
   "metadata": {},
   "outputs": [],
   "source": []
  },
  {
   "cell_type": "code",
   "execution_count": null,
   "metadata": {},
   "outputs": [],
   "source": []
  },
  {
   "cell_type": "markdown",
   "metadata": {},
   "source": [
    "<a id=\"5.EDA\"></a>\n",
    "# 5.EDA\n",
    "<a href=\"#2.Table of Contents\">Click this Link back to Top</a>"
   ]
  },
  {
   "cell_type": "code",
   "execution_count": 100,
   "metadata": {},
   "outputs": [],
   "source": [
    "class eda_data(object):\n",
    "    \"\"\"\n",
    "    explorer this data structure\n",
    "    \"\"\"\n",
    "    def __init__(self):\n",
    "        \"\"\"\n",
    "        \"\"\"\n",
    "        # using distribution to decide this parameters\n",
    "        self.MAX_SEQ_LENGTH = 300\n",
    "        \n",
    "        \n",
    "    def question_plot(self, df):\n",
    "        \"\"\"\n",
    "        Due to different column number, we need to \n",
    "        \"\"\"\n",
    "        #\n",
    "        fig, axes = plt.subplots(7, 3, figsize=(18, 15))\n",
    "        axes = axes.ravel()\n",
    "        bins = np.linspace(0, 1, 20)\n",
    "\n",
    "        for i, col in enumerate(df.columns):\n",
    "            ax = axes[i]\n",
    "            sns.histplot(df[col], label=col, kde=False, bins=bins, ax=ax)\n",
    "            # ax.set_title(col)\n",
    "            ax.set_xlim([0, 1])\n",
    "            ax.set_ylim([0, 6079])\n",
    "        plt.tight_layout()\n",
    "        plt.show()\n",
    "        plt.close()\n",
    "        \n",
    "\n",
    "\n",
    "        \n",
    "    def tokenize_plot(self, question_cleaned_df, answer_cleaned_df):\n",
    "        \"\"\"\n",
    "        decide how many words should be left for tokenzie() function\n",
    "        \"\"\"\n",
    "        # do not set num_words at first time and to see how many unique words we have \n",
    "        tokenizer_model = Tokenizer(split=' ', char_level=False, oov_token=\"<OOV>\")\n",
    "        # here is another trick, we need consider question and answer courpus into one unit\n",
    "        # so we build a new big combination corpus\n",
    "        corpus_sum = question_cleaned_df['cleaned'] + answer_cleaned_df['cleaned']\n",
    "        # use previous model to fit this large combination corpus\n",
    "        tokenizer_model.fit_on_texts(corpus_sum)\n",
    "        # get the word_index and word_count dictionary\n",
    "        # word_index is the number corresponding to words by frequence. word_count is the sepcific words appeart times frequency\n",
    "        word_index, word_count = tokenizer_model.word_index, tokenizer_model.word_counts\n",
    "        print(f\"we got unique {len(word_index)} words\")\n",
    "        MAX_WORD=0\n",
    "        for i in word_count.values():\n",
    "            if i>5:\n",
    "                MAX_WORD+=1\n",
    "        print(f\"we have {MAX_WORD} words appear more than 5 times\")\n",
    "        \n",
    "                               \n",
    "        #**************new tokenize process******************\n",
    "        # start a new standard processs from begining\n",
    "        tokenizer_new = Tokenizer(num_words = MAX_WORD, split=' ', char_level=False, oov_token=\"<OOV>\")\n",
    "        # fit on combination corpus\n",
    "        tokenizer_new.fit_on_texts(corpus_sum)\n",
    "        # get question of sequence\n",
    "        question_seq = tokenizer_new.texts_to_sequences(question_cleaned_df['cleaned'])\n",
    "        # get padded\n",
    "        question_padded = pad_sequences(question_seq, padding='post', maxlen=self.MAX_SEQ_LENGTH, truncating='post')\n",
    "        #**************new tokenize process******************\n",
    "        question_cleaned_df['padded'] = list(question_padded)\n",
    "        \n",
    "        return question_padded, question_cleaned_df, word_index\n",
    "    \n",
    "    \n",
    "    def label_feature(self, y_question_df):\n",
    "        \"\"\"\n",
    "        In future, i will use arguritem to filter column. For now, i do it manually\n",
    "        As i test use pure numerical algorithem to calcualte \n",
    "        \"\"\"\n",
    "        # first try these labels\n",
    "        feature_cols = ['question_asker_intent_understanding',\n",
    "                       'question_body_critical',\n",
    "                       'question_expect_short_answer',\n",
    "                       'question_interestingness_others'\n",
    "                      ]\n",
    "        y_label_df = y_question_df[feature_cols]\n",
    "        return y_label_df"
   ]
  },
  {
   "cell_type": "code",
   "execution_count": null,
   "metadata": {},
   "outputs": [],
   "source": []
  },
  {
   "cell_type": "code",
   "execution_count": 102,
   "metadata": {},
   "outputs": [
    {
     "data": {
      "image/png": "[encoded data removed]",
      "text/plain": [
       "<Figure size 1296x1080 with 21 Axes>"
      ]
     },
     "metadata": {
      "needs_background": "light"
     },
     "output_type": "display_data"
    },
    {
     "name": "stdout",
     "output_type": "stream",
     "text": [
      "we got unique 72070 words\n",
      "we have 13332 words appear more than 5 times\n"
     ]
    }
   ],
   "source": [
    "eda_class = eda_data()\n",
    "eda_class.question_plot(y_question_df)\n",
    "question_padded, question_cleaned_df, word_index = eda_class.tokenize_plot(question_cleaned_df, answer_cleaned_df)\n",
    "y_label_df = eda_class.label_feature(y_question_df)"
   ]
  },
  {
   "cell_type": "code",
   "execution_count": 255,
   "metadata": {},
   "outputs": [],
   "source": [
    "feature_cols = ['question_asker_intent_understanding',\n",
    "               'question_body_critical',\n",
    "               'question_expect_short_answer',\n",
    "               'question_interestingness_others'\n",
    "              ]"
   ]
  },
  {
   "cell_type": "code",
   "execution_count": 28,
   "metadata": {},
   "outputs": [],
   "source": [
    "# y_question_df.loc[:,'labels'] = y_question_df.loc[:,feature_cols].apply(lambda x: ','.join(x.astype(str)),axis=1)\n",
    "\n",
    "# y_question_df['labels'] = y_question_df[feature_cols].apply(lambda x: ','.join(x.astype(str)),axis=1)\n",
    "# y_question_df"
   ]
  },
  {
   "cell_type": "code",
   "execution_count": null,
   "metadata": {},
   "outputs": [],
   "source": []
  },
  {
   "cell_type": "code",
   "execution_count": null,
   "metadata": {},
   "outputs": [],
   "source": []
  },
  {
   "cell_type": "code",
   "execution_count": null,
   "metadata": {},
   "outputs": [],
   "source": []
  },
  {
   "cell_type": "markdown",
   "metadata": {},
   "source": [
    "<a id=\"6.Multi-Tokenize\"></a>\n",
    "# 6.Multi-Tokenize\n",
    "<a href=\"#2.Table of Contents\">Click this Link back to Top</a>"
   ]
  },
  {
   "cell_type": "markdown",
   "metadata": {},
   "source": [
    "There are seveal ways we can let model to learn how to provide score in each judgement"
   ]
  },
  {
   "cell_type": "markdown",
   "metadata": {},
   "source": [
    "- 1.TFIDF ( if using max_df and min_df, perhaps not fit seq2seq generation model)\n",
    "- 2.Embedding\n",
    "- 3.GLOVE\n",
    "- 4.LDA"
   ]
  },
  {
   "cell_type": "markdown",
   "metadata": {},
   "source": [
    "TFIDF not word2vect, it just cacualte a numerical value for each word and concatenate into sentence to build a matrix"
   ]
  },
  {
   "cell_type": "code",
   "execution_count": 99,
   "metadata": {},
   "outputs": [],
   "source": [
    "class tfidf_data(object):\n",
    "    \"\"\"\n",
    "    \"\"\"\n",
    "    def __init__(self):\n",
    "        \"\"\"\n",
    "        initial hyperparameters\n",
    "        \"\"\"\n",
    "        # build a vocabulary that only consider the top max_features ordered by term frequency across the corpus. learned from EDA\n",
    "        self.MAX_WORD = 13332\n",
    "        \n",
    "    def tfidf(df, vectorizer=None, to_cat= True):\n",
    "        \"\"\"\n",
    "        Becuase we have to mentain \n",
    "        the relationship between corpus and his lable, we have several times list to DataFrame processes.\n",
    "        I didn't show EDA part for setting up \n",
    "\n",
    "        Parameters:\n",
    "        ------------\n",
    "        df:pandas.DataFrame\n",
    "            DataFrame, contain ['AUTHOR'] and ['CLASSIFY']. This is raw data.\n",
    "\n",
    "        vectorizer:cofig\n",
    "            When we apply to \n",
    "\n",
    "        Return:\n",
    "        -------\n",
    "        X_vector:array\n",
    "            Dimension = (cleaned example, MAX_WORD).Cleaned data and transformed to TFIDF format \n",
    "            with original sequence, which means can be matched withcooresponding y_labels.\n",
    "\n",
    "        y_vector:\n",
    "            Dimension = (no. cleaned examples, NUM_LABELS)=(9630,3)\n",
    "\n",
    "\n",
    "        \"\"\"\n",
    "        print(\"*\"*50,\"Start TFIDF transfrom\", \"*\"*50)\n",
    "        start_time = time.time()\n",
    "\n",
    "         #*****************************cut down Part of optimization******************************************\n",
    "    #     #we can't directly drop column because index will dynamicly decrease, but we can gather index of drop\n",
    "    #     index_drop=[]\n",
    "    #     #iteration through all DataFrame\n",
    "    #     for i in range(len(df)):\n",
    "    #         #according to plot and statitc result,>600 have 2628, <60 have 3540, so we only need 60<data<600\n",
    "    #         if len(df.iloc[i,0])<60 or len(df.iloc[i,0])>600:\n",
    "    #             #delete too big and too small\n",
    "    #             index_drop.append(i)\n",
    "    #     print(f\"before drop shape={df.shape}\")\n",
    "\n",
    "    #     #drop row by list but remain old index number\n",
    "    #     df = df.drop(index_drop,axis=0)\n",
    "    #     print(f\"after drop shape={df.shape}\")\n",
    "    #     #re.finall(\\w+)  \n",
    "    #     #*****************************cut down Part of optimization******************************************\n",
    "\n",
    "        # inintial we need use vectorizer from train to process test data\n",
    "        if vectorizer == None:\n",
    "            vectorizer = TfidfVectorizer(sMAX_WORD='english', max_features = MAX_WORD)\n",
    "            #when we built a vect, we need to import all words as corpus combination to generate a TFIDF dictornary\n",
    "            vect = vectorizer.fit([\" \".join(df['AUTHOR'].tolist())])\n",
    "            #after fit, we need to use dictionary to transform our coupus into TFIDF(we can use sum() to check sparse)\n",
    "            data_2 = vect.transform(df['AUTHOR']).toarray()\n",
    "            X_vector = np.array(data_2)\n",
    "        else:\n",
    "            vect = vectorizer.fit([\" \".join(df['AUTHOR'].tolist())])\n",
    "            #after fit, we need to use dictionary to transform our coupus into TFIDF(we can use sum() to check sparse)\n",
    "            X_vector = vect.transform(df['AUTHOR']).toarray()\n",
    "\n",
    "        if to_categorical == True:\n",
    "            #To remain the relation between AUTHOR vector and CLASSIFY labels, we also output y_vector coorespondingly\n",
    "            y_vector = to_categorical(np.array(df['CLASSIFY']))\n",
    "        else:\n",
    "            y_vector = df['CLASSIFY']\n",
    "\n",
    "        cost_time = round((time.time()- start_time),4)\n",
    "        print(\"*\"*40,\"End tfidf() with {} second\".format(cost_time), \"*\"*40, end='\\n\\n')\n",
    "\n",
    "        return df, X_vector, y_vector, vect"
   ]
  },
  {
   "cell_type": "markdown",
   "metadata": {},
   "source": [
    "Is that more robust if i divide 13332 for every value in vector dataset?"
   ]
  },
  {
   "cell_type": "code",
   "execution_count": null,
   "metadata": {},
   "outputs": [],
   "source": [
    "chatbot\n",
    "BLUE Rougue"
   ]
  },
  {
   "cell_type": "code",
   "execution_count": 7,
   "metadata": {},
   "outputs": [],
   "source": [
    "# y_label_df.head(5)"
   ]
  },
  {
   "cell_type": "code",
   "execution_count": null,
   "metadata": {},
   "outputs": [],
   "source": []
  },
  {
   "cell_type": "code",
   "execution_count": null,
   "metadata": {},
   "outputs": [],
   "source": []
  },
  {
   "cell_type": "code",
   "execution_count": null,
   "metadata": {},
   "outputs": [],
   "source": []
  },
  {
   "cell_type": "markdown",
   "metadata": {},
   "source": [
    "<a id=\"6.8 Split Data\"></a>\n",
    "### 6.8 Split Data\n",
    "<a href=\"#2.Table of Contents\">Click this Link back to Top</a>"
   ]
  },
  {
   "cell_type": "code",
   "execution_count": 90,
   "metadata": {},
   "outputs": [],
   "source": [
    "def split_data(X_vector,y_vector, test_size=0.2):\n",
    "    \"\"\"\n",
    "    this is only for padded data split\n",
    "    \"\"\"\n",
    "    print(\"*\"*50,\"Start train_test_split\", \"*\"*50)\n",
    "    start_time = time.time()\n",
    "    X_train, X_val, y_train, y_val = train_test_split(X_vector, y_vector, \\\n",
    "                                                        test_size=0.2, random_state=37)\n",
    "    \n",
    "#     X_train, X_val, y_train, y_val = train_test_split(X_train, y_train, test_size = 0.2, random_state = 37)\n",
    "    \n",
    "    cost_time = round((time.time()- start_time),4)\n",
    "    print(\"*\"*40,\"End embedding() with {} seconds\".format(cost_time), \"*\"*40, end='\\n\\n')\n",
    "    return X_train, X_val, y_train, y_val"
   ]
  },
  {
   "cell_type": "code",
   "execution_count": 11,
   "metadata": {},
   "outputs": [],
   "source": [
    "# X_train, X_test, X_val, y_train, y_test, y_val = split_data(question_padded,y_label_df, test_size=0.2)"
   ]
  },
  {
   "cell_type": "code",
   "execution_count": 12,
   "metadata": {},
   "outputs": [],
   "source": [
    "# y_train.shape"
   ]
  },
  {
   "cell_type": "code",
   "execution_count": null,
   "metadata": {},
   "outputs": [],
   "source": []
  },
  {
   "cell_type": "code",
   "execution_count": null,
   "metadata": {},
   "outputs": [],
   "source": []
  },
  {
   "cell_type": "code",
   "execution_count": null,
   "metadata": {},
   "outputs": [],
   "source": []
  },
  {
   "cell_type": "code",
   "execution_count": null,
   "metadata": {},
   "outputs": [],
   "source": []
  },
  {
   "cell_type": "code",
   "execution_count": null,
   "metadata": {},
   "outputs": [],
   "source": []
  },
  {
   "cell_type": "code",
   "execution_count": null,
   "metadata": {},
   "outputs": [],
   "source": []
  },
  {
   "cell_type": "code",
   "execution_count": null,
   "metadata": {},
   "outputs": [],
   "source": []
  },
  {
   "cell_type": "markdown",
   "metadata": {},
   "source": [
    "<a id=\"7.Classify\"></a>\n",
    "# 7.Classify\n",
    "<a href=\"#2.Table of Contents\">Click this Link back to Top</a>"
   ]
  },
  {
   "cell_type": "markdown",
   "metadata": {},
   "source": [
    "I will provide more than three type of input. All matrix will use number represent a whole sentence. What we can do include surpivsed learning to classify (NN, KNN) and unsurprivised learning to cluster (k-means + PCA)"
   ]
  },
  {
   "cell_type": "code",
   "execution_count": null,
   "metadata": {},
   "outputs": [],
   "source": []
  },
  {
   "cell_type": "code",
   "execution_count": null,
   "metadata": {},
   "outputs": [],
   "source": []
  },
  {
   "cell_type": "markdown",
   "metadata": {},
   "source": [
    "<a id=\"7.1 KNN\"></a>\n",
    "### 7.1 KNN\n",
    "<a href=\"#2.Table of Contents\">Click this Link back to Top</a>"
   ]
  },
  {
   "cell_type": "code",
   "execution_count": null,
   "metadata": {},
   "outputs": [],
   "source": []
  },
  {
   "cell_type": "markdown",
   "metadata": {},
   "source": [
    "<a id=\"7.2 Neural Network Classify\"></a>\n",
    "### 7.2 Neural Network Classify\n",
    "<a href=\"#2.Table of Contents\">Click this Link back to Top</a>"
   ]
  },
  {
   "cell_type": "markdown",
   "metadata": {},
   "source": [
    "tranform category to one-hot, last layer use softmax, use argmax() to get predict result"
   ]
  },
  {
   "cell_type": "code",
   "execution_count": null,
   "metadata": {},
   "outputs": [],
   "source": []
  },
  {
   "cell_type": "code",
   "execution_count": null,
   "metadata": {},
   "outputs": [],
   "source": []
  },
  {
   "cell_type": "markdown",
   "metadata": {},
   "source": [
    "<a id=\"7.3 K-means cluster + PCA\"></a>\n",
    "### 7.3 K-means cluster + PCA\n",
    "<a href=\"#2.Table of Contents\">Click this Link back to Top</a>"
   ]
  },
  {
   "cell_type": "markdown",
   "metadata": {},
   "source": [
    "Get high dimentsion cluster result and reduce dimenstion to get a 3D/2D visulization result"
   ]
  },
  {
   "cell_type": "code",
   "execution_count": null,
   "metadata": {},
   "outputs": [],
   "source": []
  },
  {
   "cell_type": "code",
   "execution_count": null,
   "metadata": {},
   "outputs": [],
   "source": []
  },
  {
   "cell_type": "code",
   "execution_count": null,
   "metadata": {},
   "outputs": [],
   "source": []
  },
  {
   "cell_type": "markdown",
   "metadata": {},
   "source": [
    "<a id=\"8.Models\"></a>\n",
    "# 8.Models\n",
    "<a href=\"#2.Table of Contents\">Click this Link back to Top</a>"
   ]
  },
  {
   "cell_type": "code",
   "execution_count": 113,
   "metadata": {},
   "outputs": [],
   "source": [
    "def nn_model(word_index):\n",
    "    \"\"\"\n",
    "    Input is just padded question sequence, add Embedding layer transorfrom it into word vector and build up a sentence\n",
    "    \"\"\"\n",
    "    #*************Hyperparameters************\n",
    "    #max sequence/sentence length\n",
    "    MAX_SEQ_LEN = 300\n",
    "    # what is the word dimentsion for a single, for examplee, \"thank\" will have \n",
    "    EMBEDDING_DIM = 100\n",
    "    #*************Hyperparameters************\n",
    "    model = None\n",
    "    \n",
    "    \n",
    "    input_layer_1 = Input(shape=(MAX_SEQ_LEN,), dtype='int32')\n",
    "    embed_layer_2 = Embedding(input_dim = len(word_index) + 1, \\\n",
    "                              output_dim = EMBEDDING_DIM, \\\n",
    "                              input_length=MAX_SEQ_LEN\n",
    "                              )(input_layer_1)\n",
    "    pooling_layer_3 = GlobalAveragePooling1D()(embed_layer_2)\n",
    "    dense_layer_4 = Dense(units = 32, activation='relu')(pooling_layer_3)\n",
    "    output_layer_5 = Dense(units = 4)(dense_layer_4)\n",
    "    model = Model(inputs = input_layer_1, outputs = output_layer_5, name='nn_model')\n",
    "    model.summary()\n",
    "    return model\n",
    "    "
   ]
  },
  {
   "cell_type": "code",
   "execution_count": 114,
   "metadata": {},
   "outputs": [
    {
     "name": "stdout",
     "output_type": "stream",
     "text": [
      "Model: \"nn_model\"\n",
      "_________________________________________________________________\n",
      "Layer (type)                 Output Shape              Param #   \n",
      "=================================================================\n",
      "input_22 (InputLayer)        [(None, 300)]             0         \n",
      "_________________________________________________________________\n",
      "embedding_3 (Embedding)      (None, 300, 100)          7207100   \n",
      "_________________________________________________________________\n",
      "global_average_pooling1d_1 ( (None, 100)               0         \n",
      "_________________________________________________________________\n",
      "dense_53 (Dense)             (None, 32)                3232      \n",
      "_________________________________________________________________\n",
      "dense_54 (Dense)             (None, 4)                 132       \n",
      "=================================================================\n",
      "Total params: 7,210,464\n",
      "Trainable params: 7,210,464\n",
      "Non-trainable params: 0\n",
      "_________________________________________________________________\n"
     ]
    },
    {
     "data": {
      "text/plain": [
       "<tensorflow.python.keras.engine.training.Model at 0x2272e293148>"
      ]
     },
     "execution_count": 114,
     "metadata": {},
     "output_type": "execute_result"
    }
   ],
   "source": [
    "nn_model(word_index)"
   ]
  },
  {
   "cell_type": "markdown",
   "metadata": {},
   "source": [
    "1.CNN(u-gim, bi, trigum = contcant)\n",
    "2.CNN \n",
    "3.GRU\n",
    "4.BERT"
   ]
  },
  {
   "cell_type": "code",
   "execution_count": null,
   "metadata": {},
   "outputs": [],
   "source": []
  },
  {
   "cell_type": "code",
   "execution_count": null,
   "metadata": {},
   "outputs": [],
   "source": []
  },
  {
   "cell_type": "code",
   "execution_count": 115,
   "metadata": {},
   "outputs": [],
   "source": [
    "def compile_fit(model_input, X_train, X_val, y_train, y_val, loss_fun, epoch_num=3):\n",
    "    \"\"\"\n",
    "    \"\"\"\n",
    "    start_time = time.time()\n",
    "    print(\"*\"*40,\"Start {} Processing\".format(model_input._name), \"*\"*40)\n",
    "    \n",
    "    model = model_input\n",
    "#     METRICS = [\n",
    "#           metrics.TruePositives(name='tp'),\n",
    "#           metrics.FalsePositives(name='fp'),\n",
    "#           metrics.TrueNegatives(name='tn'),\n",
    "#           metrics.FalseNegatives(name='fn'), \n",
    "#           metrics.CategoricalAccuracy(name='accuracy'),\n",
    "#           metrics.Precision(name='precision'),\n",
    "#           metrics.Recall(name='recall'),\n",
    "#           metrics.AUC(name='auc'),\n",
    "#           F1Score(num_classes = int(y_train.shape[1]), name='F1')\n",
    "#     ]\n",
    "\n",
    "    learning_rate = 1e-2\n",
    "    opt_adam = optimizers.Adam(lr = learning_rate, decay=1e-5)\n",
    "    model.compile(loss=loss_fun, \\\n",
    "                  optimizer=opt_adam, \\\n",
    "                  metrics = ['mae','mse'])\n",
    "    # batch_size is subjected to my GPU and GPU memory, after testing, 32 is reasonable value size. \n",
    "    # If vector bigger, this value should dercrease\n",
    "    history = model.fit(X_train, y_train, validation_data=(X_val, y_val), \\\n",
    "                        epochs=epoch_num, batch_size=32, verbose =1)\n",
    "    # dic = ['loss', 'accuracy', 'val_loss','val_accuracy']\n",
    "    history_dict = [x for x in history.history]\n",
    "    # model.predict(train_features[:10])\n",
    "\n",
    "#     print(\"*\"*50)\n",
    "#     x_axis = list(range(epoch_num))\n",
    "#     # loss\n",
    "#     plt.plot(x_axis, history.history[history_dict[0]], color = 'r', lw = 2, label = history_dict[0])\n",
    "#     # val_loss\n",
    "#     plt.plot(x_axis, history.history[history_dict[10]], color = 'y', lw = 2, label = history_dict[10])\n",
    "#     # accuracy\n",
    "#     plt.plot(x_axis, history.history[history_dict[5]], color = 'b', lw = 2, label = history_dict[5])\n",
    "#     # validataion_accuracy\n",
    "#     plt.plot(x_axis, history.history[history_dict[15]], color = 'k', lw = 2, label = history_dict[15])\n",
    "#     plt.title(model_input._name)\n",
    "#     plt.legend()\n",
    "#     plt.xlabel('Epochs')\n",
    "#     # plt.ylabel(str(dic[i]))\n",
    "#     plt.show()\n",
    "    \n",
    "    cost_time = round((time.time()- start_time),4)\n",
    "    print(\"*\"*40,\"End {} with {} seconds\".format(model_input._name, cost_time), \"*\"*40, end='\\n\\n')\n",
    "    return history, model"
   ]
  },
  {
   "cell_type": "code",
   "execution_count": 116,
   "metadata": {},
   "outputs": [
    {
     "data": {
      "text/plain": [
       "(4863, 300)"
      ]
     },
     "execution_count": 116,
     "metadata": {},
     "output_type": "execute_result"
    }
   ],
   "source": [
    "X_train.shape"
   ]
  },
  {
   "cell_type": "code",
   "execution_count": 119,
   "metadata": {},
   "outputs": [
    {
     "name": "stdout",
     "output_type": "stream",
     "text": [
      "Model: \"nn_model\"\n",
      "_________________________________________________________________\n",
      "Layer (type)                 Output Shape              Param #   \n",
      "=================================================================\n",
      "input_25 (InputLayer)        [(None, 300)]             0         \n",
      "_________________________________________________________________\n",
      "embedding_6 (Embedding)      (None, 300, 100)          7207100   \n",
      "_________________________________________________________________\n",
      "global_average_pooling1d_4 ( (None, 100)               0         \n",
      "_________________________________________________________________\n",
      "dense_59 (Dense)             (None, 32)                3232      \n",
      "_________________________________________________________________\n",
      "dense_60 (Dense)             (None, 4)                 132       \n",
      "=================================================================\n",
      "Total params: 7,210,464\n",
      "Trainable params: 7,210,464\n",
      "Non-trainable params: 0\n",
      "_________________________________________________________________\n",
      "**************************************** Start nn_model Processing ****************************************\n",
      "Train on 4863 samples, validate on 1216 samples\n",
      "Epoch 1/10\n",
      "4863/4863 [==============================] - 12s 2ms/sample - loss: 0.0647 - mae: 0.1896 - mse: 0.0647 - val_loss: 0.0490 - val_mae: 0.1636 - val_mse: 0.0490\n",
      "Epoch 2/10\n",
      "4863/4863 [==============================] - 11s 2ms/sample - loss: 0.0435 - mae: 0.1563 - mse: 0.0435 - val_loss: 0.0529 - val_mae: 0.1657 - val_mse: 0.0529\n",
      "Epoch 3/10\n",
      "4863/4863 [==============================] - 11s 2ms/sample - loss: 0.0367 - mae: 0.1405 - mse: 0.0367 - val_loss: 0.0506 - val_mae: 0.1649 - val_mse: 0.0506\n",
      "Epoch 4/10\n",
      "4863/4863 [==============================] - 11s 2ms/sample - loss: 0.0316 - mae: 0.1284 - mse: 0.0316 - val_loss: 0.0539 - val_mae: 0.1709 - val_mse: 0.0539\n",
      "Epoch 5/10\n",
      "4863/4863 [==============================] - 11s 2ms/sample - loss: 0.0282 - mae: 0.1195 - mse: 0.0282 - val_loss: 0.0597 - val_mae: 0.1797 - val_mse: 0.0597\n",
      "Epoch 6/10\n",
      "4863/4863 [==============================] - 11s 2ms/sample - loss: 0.0256 - mae: 0.1127 - mse: 0.0256 - val_loss: 0.0569 - val_mae: 0.1683 - val_mse: 0.0569\n",
      "Epoch 7/10\n",
      "4863/4863 [==============================] - 11s 2ms/sample - loss: 0.0249 - mae: 0.1097 - mse: 0.0249 - val_loss: 0.0542 - val_mae: 0.1642 - val_mse: 0.0542\n",
      "Epoch 8/10\n",
      "4863/4863 [==============================] - 11s 2ms/sample - loss: 0.0226 - mae: 0.1042 - mse: 0.0226 - val_loss: 0.0565 - val_mae: 0.1712 - val_mse: 0.0565\n",
      "Epoch 9/10\n",
      "4863/4863 [==============================] - 11s 2ms/sample - loss: 0.0213 - mae: 0.0999 - mse: 0.0213 - val_loss: 0.0612 - val_mae: 0.1762 - val_mse: 0.0612\n",
      "Epoch 10/10\n",
      "4863/4863 [==============================] - 11s 2ms/sample - loss: 0.0203 - mae: 0.0967 - mse: 0.0203 - val_loss: 0.0633 - val_mae: 0.1763 - val_mse: 0.0633\n",
      "**************************************** End nn_model with 112.0545 seconds ****************************************\n",
      "\n"
     ]
    }
   ],
   "source": [
    "# history, model_2 = compile_fit(nn_model(), X_train, X_test, X_val, y_train, y_test, y_val, loss_fun = 'binary_crossentropy', epoch_num=50)\n",
    "history, model_2 = compile_fit(nn_model(word_index), X_train, X_val, y_train, y_val, loss_fun = 'mse', epoch_num=10)"
   ]
  },
  {
   "cell_type": "code",
   "execution_count": null,
   "metadata": {},
   "outputs": [],
   "source": []
  },
  {
   "cell_type": "code",
   "execution_count": null,
   "metadata": {},
   "outputs": [],
   "source": []
  },
  {
   "cell_type": "code",
   "execution_count": null,
   "metadata": {},
   "outputs": [],
   "source": []
  },
  {
   "cell_type": "code",
   "execution_count": null,
   "metadata": {},
   "outputs": [],
   "source": []
  },
  {
   "cell_type": "code",
   "execution_count": null,
   "metadata": {},
   "outputs": [],
   "source": []
  },
  {
   "cell_type": "code",
   "execution_count": null,
   "metadata": {},
   "outputs": [],
   "source": []
  },
  {
   "cell_type": "code",
   "execution_count": null,
   "metadata": {},
   "outputs": [],
   "source": []
  },
  {
   "cell_type": "markdown",
   "metadata": {},
   "source": [
    "<a id=\"9.Main Function\"></a>\n",
    "# 9.Main Function\n",
    "<a href=\"#2.Table of Contents\">Click this Link back to Top</a>"
   ]
  },
  {
   "cell_type": "code",
   "execution_count": 152,
   "metadata": {},
   "outputs": [],
   "source": [
    "def main_function():\n",
    "    \"\"\"\n",
    "    We use this function to call process one by one.\n",
    "    \"\"\"\n",
    "    pre = preprocess_data()\n",
    "    df_train_raw, X_question_df, X_answer_df, y_question_df, y_answer_df = pre.import_data(\"03_data/02_train.csv\")\n",
    "#     df_test_raw, X_q_test_df, X_a_test_df, y_q_test_df, y_a_test_df = pre.import_data(\"03_data/03_test.csv\")\n",
    "\n",
    "    clean = clean_data()\n",
    "    question_cleaned_df = clean.clean_process(X_question_df, column_1 ='question')\n",
    "    answer_cleaned_df = clean.clean_process(X_answer_df, column_1='answer')\n",
    "#     q_test_cleaned_df = clean.clean_process(X_q_test_df, column_1 ='question')\n",
    "#     a_test_cleaned_df = clean.clean_process(X_a_test_df, column_1='answer')\n",
    "    \n",
    "    eda_class = eda_data()\n",
    "    # eda_class.question_plot(y_question_df)\n",
    "    # question_padded have shape (6079,100) can be used in fewer embedding\n",
    "    question_padded, question_cleaned_df, word_index = eda_class.tokenize_plot(question_cleaned_df, answer_cleaned_df)\n",
    "    # get question label\n",
    "    y_label_df = eda_class.label_feature(y_question_df)\n",
    "#     q_test_padded, q_test_cleaned_df = eda_class.tokenize_plot(q_test_cleaned_df, a_test_cleaned_df)\n",
    "#     # get question label\n",
    "#     y_label_test_df = eda_class.label_feature(y_q_test_df)\n",
    "    \n",
    "    \n",
    "    X_train, X_val, y_train, y_val = split_data(question_padded, y_label_df, test_size=0.2)\n",
    "    \n",
    "    history, model_2 = compile_fit(nn_model(word_index), X_train, X_val, y_train, y_val, loss_fun = 'mse', epoch_num=10)\n",
    "    \n",
    "    return question_padded, question_cleaned_df, y_label_df,X_train, X_val, y_train, y_val, history,model_2 "
   ]
  },
  {
   "cell_type": "code",
   "execution_count": 153,
   "metadata": {},
   "outputs": [
    {
     "name": "stdout",
     "output_type": "stream",
     "text": [
      "************************************************** Start Clean data **************************************************\n",
      "**************************************** End clean_data() with 3.07 second ****************************************\n",
      "\n",
      "************************************************** Start Clean data **************************************************\n",
      "**************************************** End clean_data() with 3.0128 second ****************************************\n",
      "\n",
      "we got unique 72070 words\n",
      "we have 13332 words appear more than 5 times\n",
      "************************************************** Start train_test_split **************************************************\n",
      "**************************************** End embedding() with 0.005 seconds ****************************************\n",
      "\n",
      "Model: \"nn_model\"\n",
      "_________________________________________________________________\n",
      "Layer (type)                 Output Shape              Param #   \n",
      "=================================================================\n",
      "input_26 (InputLayer)        [(None, 300)]             0         \n",
      "_________________________________________________________________\n",
      "embedding_7 (Embedding)      (None, 300, 100)          7207100   \n",
      "_________________________________________________________________\n",
      "global_average_pooling1d_5 ( (None, 100)               0         \n",
      "_________________________________________________________________\n",
      "dense_61 (Dense)             (None, 32)                3232      \n",
      "_________________________________________________________________\n",
      "dense_62 (Dense)             (None, 4)                 132       \n",
      "=================================================================\n",
      "Total params: 7,210,464\n",
      "Trainable params: 7,210,464\n",
      "Non-trainable params: 0\n",
      "_________________________________________________________________\n",
      "**************************************** Start nn_model Processing ****************************************\n",
      "Train on 4863 samples, validate on 1216 samples\n",
      "Epoch 1/50\n",
      "4863/4863 [==============================] - 12s 2ms/sample - loss: 0.0637 - mae: 0.1879 - mse: 0.0637 - val_loss: 0.0478 - val_mae: 0.1635 - val_mse: 0.0478\n",
      "Epoch 2/50\n",
      "4863/4863 [==============================] - 11s 2ms/sample - loss: 0.0414 - mae: 0.1519 - mse: 0.0414 - val_loss: 0.0495 - val_mae: 0.1636 - val_mse: 0.0495\n",
      "Epoch 3/50\n",
      "4863/4863 [==============================] - 11s 2ms/sample - loss: 0.0345 - mae: 0.1356 - mse: 0.0345 - val_loss: 0.0528 - val_mae: 0.1614 - val_mse: 0.0528\n",
      "Epoch 4/50\n",
      "4863/4863 [==============================] - 12s 3ms/sample - loss: 0.0309 - mae: 0.1275 - mse: 0.0309 - val_loss: 0.0525 - val_mae: 0.1638 - val_mse: 0.0525\n",
      "Epoch 5/50\n",
      "4863/4863 [==============================] - 15s 3ms/sample - loss: 0.0269 - mae: 0.1169 - mse: 0.0269 - val_loss: 0.0559 - val_mae: 0.1670 - val_mse: 0.0559\n",
      "Epoch 6/50\n",
      "4863/4863 [==============================] - 12s 2ms/sample - loss: 0.0246 - mae: 0.1112 - mse: 0.0246 - val_loss: 0.0589 - val_mae: 0.1702 - val_mse: 0.0589\n",
      "Epoch 7/50\n",
      "4863/4863 [==============================] - 13s 3ms/sample - loss: 0.0229 - mae: 0.1059 - mse: 0.0229 - val_loss: 0.0575 - val_mae: 0.1669 - val_mse: 0.0575\n",
      "Epoch 8/50\n",
      "4863/4863 [==============================] - 13s 3ms/sample - loss: 0.0213 - mae: 0.1008 - mse: 0.0213 - val_loss: 0.0595 - val_mae: 0.1705 - val_mse: 0.0595\n",
      "Epoch 9/50\n",
      "4863/4863 [==============================] - 14s 3ms/sample - loss: 0.0203 - mae: 0.0973 - mse: 0.0203 - val_loss: 0.0604 - val_mae: 0.1685 - val_mse: 0.0604\n",
      "Epoch 10/50\n",
      "4863/4863 [==============================] - 14s 3ms/sample - loss: 0.0195 - mae: 0.0945 - mse: 0.0195 - val_loss: 0.0628 - val_mae: 0.1721 - val_mse: 0.0628\n",
      "Epoch 11/50\n",
      "4863/4863 [==============================] - 15s 3ms/sample - loss: 0.0186 - mae: 0.0921 - mse: 0.0186 - val_loss: 0.0606 - val_mae: 0.1711 - val_mse: 0.0606\n",
      "Epoch 12/50\n",
      "4863/4863 [==============================] - 16s 3ms/sample - loss: 0.0186 - mae: 0.0918 - mse: 0.0186 - val_loss: 0.0633 - val_mae: 0.1741 - val_mse: 0.0633\n",
      "Epoch 13/50\n",
      "4863/4863 [==============================] - 15s 3ms/sample - loss: 0.0183 - mae: 0.0909 - mse: 0.0183 - val_loss: 0.0655 - val_mae: 0.1753 - val_mse: 0.0655\n",
      "Epoch 14/50\n",
      "4863/4863 [==============================] - 16s 3ms/sample - loss: 0.0180 - mae: 0.0896 - mse: 0.0180 - val_loss: 0.0642 - val_mae: 0.1741 - val_mse: 0.0642\n",
      "Epoch 15/50\n",
      "4863/4863 [==============================] - 15s 3ms/sample - loss: 0.0176 - mae: 0.0882 - mse: 0.0176 - val_loss: 0.0660 - val_mae: 0.1752 - val_mse: 0.0660\n",
      "Epoch 16/50\n",
      "4863/4863 [==============================] - 15s 3ms/sample - loss: 0.0173 - mae: 0.0865 - mse: 0.0173 - val_loss: 0.0679 - val_mae: 0.1789 - val_mse: 0.0679\n",
      "Epoch 17/50\n",
      "4863/4863 [==============================] - 16s 3ms/sample - loss: 0.0171 - mae: 0.0860 - mse: 0.0171 - val_loss: 0.0638 - val_mae: 0.1759 - val_mse: 0.0638\n",
      "Epoch 18/50\n",
      "4863/4863 [==============================] - 15s 3ms/sample - loss: 0.0169 - mae: 0.0852 - mse: 0.0169 - val_loss: 0.0613 - val_mae: 0.1734 - val_mse: 0.0613\n",
      "Epoch 19/50\n",
      "4863/4863 [==============================] - 15s 3ms/sample - loss: 0.0165 - mae: 0.0837 - mse: 0.0165 - val_loss: 0.0702 - val_mae: 0.1803 - val_mse: 0.0702\n",
      "Epoch 20/50\n",
      "4863/4863 [==============================] - 16s 3ms/sample - loss: 0.0165 - mae: 0.0840 - mse: 0.0165 - val_loss: 0.0671 - val_mae: 0.1791 - val_mse: 0.0671\n",
      "Epoch 21/50\n",
      "4863/4863 [==============================] - 15s 3ms/sample - loss: 0.0163 - mae: 0.0826 - mse: 0.0163 - val_loss: 0.0637 - val_mae: 0.1744 - val_mse: 0.0637\n",
      "Epoch 22/50\n",
      "4863/4863 [==============================] - 14s 3ms/sample - loss: 0.0163 - mae: 0.0826 - mse: 0.0163 - val_loss: 0.0625 - val_mae: 0.1770 - val_mse: 0.0625\n",
      "Epoch 23/50\n",
      "4863/4863 [==============================] - 14s 3ms/sample - loss: 0.0160 - mae: 0.0823 - mse: 0.0160 - val_loss: 0.0680 - val_mae: 0.1788 - val_mse: 0.0680\n",
      "Epoch 24/50\n",
      "4863/4863 [==============================] - 14s 3ms/sample - loss: 0.0159 - mae: 0.0809 - mse: 0.0159 - val_loss: 0.0652 - val_mae: 0.1757 - val_mse: 0.0652\n",
      "Epoch 25/50\n",
      "4863/4863 [==============================] - 15s 3ms/sample - loss: 0.0158 - mae: 0.0807 - mse: 0.0158 - val_loss: 0.0636 - val_mae: 0.1744 - val_mse: 0.0636\n",
      "Epoch 26/50\n",
      "4863/4863 [==============================] - 16s 3ms/sample - loss: 0.0158 - mae: 0.0809 - mse: 0.0158 - val_loss: 0.0650 - val_mae: 0.1752 - val_mse: 0.0650\n",
      "Epoch 27/50\n",
      "4863/4863 [==============================] - 17s 3ms/sample - loss: 0.0158 - mae: 0.0803 - mse: 0.0158 - val_loss: 0.0667 - val_mae: 0.1773 - val_mse: 0.0667\n",
      "Epoch 28/50\n",
      "4863/4863 [==============================] - 16s 3ms/sample - loss: 0.0157 - mae: 0.0807 - mse: 0.0157 - val_loss: 0.0661 - val_mae: 0.1756 - val_mse: 0.0661\n",
      "Epoch 29/50\n",
      "4863/4863 [==============================] - 15s 3ms/sample - loss: 0.0156 - mae: 0.0799 - mse: 0.0156 - val_loss: 0.0658 - val_mae: 0.1769 - val_mse: 0.0658\n",
      "Epoch 30/50\n",
      "4863/4863 [==============================] - 17s 3ms/sample - loss: 0.0154 - mae: 0.0790 - mse: 0.0154 - val_loss: 0.0663 - val_mae: 0.1793 - val_mse: 0.0663\n",
      "Epoch 31/50\n",
      "4863/4863 [==============================] - 16s 3ms/sample - loss: 0.0154 - mae: 0.0788 - mse: 0.0154 - val_loss: 0.0643 - val_mae: 0.1738 - val_mse: 0.0643\n",
      "Epoch 32/50\n",
      "4863/4863 [==============================] - 15s 3ms/sample - loss: 0.0152 - mae: 0.0778 - mse: 0.0152 - val_loss: 0.0672 - val_mae: 0.1762 - val_mse: 0.0672\n",
      "Epoch 33/50\n",
      "4863/4863 [==============================] - 16s 3ms/sample - loss: 0.0153 - mae: 0.0784 - mse: 0.0153 - val_loss: 0.0645 - val_mae: 0.1753 - val_mse: 0.0645\n",
      "Epoch 34/50\n",
      "4863/4863 [==============================] - 18s 4ms/sample - loss: 0.0153 - mae: 0.0785 - mse: 0.0153 - val_loss: 0.0651 - val_mae: 0.1760 - val_mse: 0.0651\n",
      "Epoch 35/50\n",
      "4863/4863 [==============================] - 17s 3ms/sample - loss: 0.0157 - mae: 0.0809 - mse: 0.0157 - val_loss: 0.0649 - val_mae: 0.1776 - val_mse: 0.0649\n",
      "Epoch 36/50\n",
      "4863/4863 [==============================] - 16s 3ms/sample - loss: 0.0151 - mae: 0.0782 - mse: 0.0151 - val_loss: 0.0656 - val_mae: 0.1751 - val_mse: 0.0656\n",
      "Epoch 37/50\n",
      "4863/4863 [==============================] - 16s 3ms/sample - loss: 0.0149 - mae: 0.0768 - mse: 0.0149 - val_loss: 0.0642 - val_mae: 0.1727 - val_mse: 0.0642\n"
     ]
    },
    {
     "name": "stdout",
     "output_type": "stream",
     "text": [
      "Epoch 38/50\n",
      "4863/4863 [==============================] - 16s 3ms/sample - loss: 0.0150 - mae: 0.0768 - mse: 0.0150 - val_loss: 0.0668 - val_mae: 0.1765 - val_mse: 0.0668\n",
      "Epoch 39/50\n",
      "4863/4863 [==============================] - 16s 3ms/sample - loss: 0.0151 - mae: 0.0773 - mse: 0.0151 - val_loss: 0.0654 - val_mae: 0.1784 - val_mse: 0.0654\n",
      "Epoch 40/50\n",
      "4863/4863 [==============================] - 16s 3ms/sample - loss: 0.0150 - mae: 0.0769 - mse: 0.0150 - val_loss: 0.0636 - val_mae: 0.1731 - val_mse: 0.0636\n",
      "Epoch 41/50\n",
      "4863/4863 [==============================] - 16s 3ms/sample - loss: 0.0149 - mae: 0.0768 - mse: 0.0149 - val_loss: 0.0683 - val_mae: 0.1780 - val_mse: 0.0683\n",
      "Epoch 42/50\n",
      "4863/4863 [==============================] - 15s 3ms/sample - loss: 0.0151 - mae: 0.0773 - mse: 0.0151 - val_loss: 0.0636 - val_mae: 0.1733 - val_mse: 0.0636\n",
      "Epoch 43/50\n",
      "4863/4863 [==============================] - 15s 3ms/sample - loss: 0.0152 - mae: 0.0780 - mse: 0.0152 - val_loss: 0.0682 - val_mae: 0.1791 - val_mse: 0.0682\n",
      "Epoch 44/50\n",
      "4863/4863 [==============================] - 15s 3ms/sample - loss: 0.0148 - mae: 0.0761 - mse: 0.0148 - val_loss: 0.0689 - val_mae: 0.1790 - val_mse: 0.0689\n",
      "Epoch 45/50\n",
      "4863/4863 [==============================] - 15s 3ms/sample - loss: 0.0147 - mae: 0.0755 - mse: 0.0147 - val_loss: 0.0695 - val_mae: 0.1808 - val_mse: 0.0695\n",
      "Epoch 46/50\n",
      "4863/4863 [==============================] - 17s 3ms/sample - loss: 0.0147 - mae: 0.0757 - mse: 0.0147 - val_loss: 0.0691 - val_mae: 0.1807 - val_mse: 0.0691\n",
      "Epoch 47/50\n",
      "4863/4863 [==============================] - 16s 3ms/sample - loss: 0.0148 - mae: 0.0762 - mse: 0.0148 - val_loss: 0.0660 - val_mae: 0.1762 - val_mse: 0.0660\n",
      "Epoch 48/50\n",
      "4863/4863 [==============================] - 15s 3ms/sample - loss: 0.0147 - mae: 0.0759 - mse: 0.0147 - val_loss: 0.0612 - val_mae: 0.1713 - val_mse: 0.0612\n",
      "Epoch 49/50\n",
      "4863/4863 [==============================] - 15s 3ms/sample - loss: 0.0145 - mae: 0.0749 - mse: 0.0145 - val_loss: 0.0640 - val_mae: 0.1739 - val_mse: 0.0640\n",
      "Epoch 50/50\n",
      "4863/4863 [==============================] - 15s 3ms/sample - loss: 0.0146 - mae: 0.0753 - mse: 0.0146 - val_loss: 0.0654 - val_mae: 0.1780 - val_mse: 0.0654\n",
      "**************************************** End nn_model with 750.7214 seconds ****************************************\n",
      "\n"
     ]
    }
   ],
   "source": [
    "if __name__==\"__main__\":\n",
    "    question_padded, question_cleaned_df, y_label_df,X_train, X_val, y_train, y_val, history, model_2 = main_function()"
   ]
  },
  {
   "cell_type": "code",
   "execution_count": null,
   "metadata": {},
   "outputs": [],
   "source": []
  },
  {
   "cell_type": "code",
   "execution_count": null,
   "metadata": {},
   "outputs": [],
   "source": []
  },
  {
   "cell_type": "code",
   "execution_count": 154,
   "metadata": {},
   "outputs": [
    {
     "data": {
      "image/png": "[encoded data removed]",
      "text/plain": [
       "<Figure size 432x288 with 1 Axes>"
      ]
     },
     "metadata": {
      "needs_background": "light"
     },
     "output_type": "display_data"
    },
    {
     "data": {
      "image/png": "[encoded data removed]",
      "text/plain": [
       "<Figure size 432x288 with 1 Axes>"
      ]
     },
     "metadata": {
      "needs_background": "light"
     },
     "output_type": "display_data"
    }
   ],
   "source": [
    "def plot_history(history):\n",
    "  hist = pd.DataFrame(history.history)\n",
    "  hist['epoch'] = history.epoch\n",
    "\n",
    "  plt.figure()\n",
    "  plt.xlabel('Epoch')\n",
    "  plt.ylabel('Mean Abs Error [MPG]')\n",
    "  plt.plot(hist['epoch'], hist['mae'],\n",
    "           label='Train Error')\n",
    "  plt.plot(hist['epoch'], hist['val_mae'],\n",
    "           label = 'Val Error')\n",
    "  plt.ylim([0,0.3])\n",
    "  plt.legend()\n",
    "\n",
    "  plt.figure()\n",
    "  plt.xlabel('Epoch')\n",
    "  plt.ylabel('Mean Square Error [$MPG^2$]')\n",
    "  plt.plot(hist['epoch'], hist['mse'],\n",
    "           label='Train Error')\n",
    "  plt.plot(hist['epoch'], hist['val_mse'],\n",
    "           label = 'Val Error')\n",
    "  plt.ylim([0, 0.2])\n",
    "  plt.legend()\n",
    "  plt.show()\n",
    "\n",
    "\n",
    "plot_history(history)"
   ]
  },
  {
   "cell_type": "code",
   "execution_count": null,
   "metadata": {},
   "outputs": [],
   "source": []
  },
  {
   "cell_type": "code",
   "execution_count": 155,
   "metadata": {},
   "outputs": [
    {
     "name": "stdout",
     "output_type": "stream",
     "text": [
      "1216/1216 [==============================] - 0s 337us/sample - loss: 0.0654 - mae: 0.1780 - mse: 0.0654\n",
      "Testing set Mean Abs Error:  0.18\n"
     ]
    }
   ],
   "source": [
    "loss, mae, mse = model_2.evaluate(X_val, y_val, verbose=1)\n",
    "\n",
    "print(\"Testing set Mean Abs Error: {:5.2f}\".format(mae))"
   ]
  },
  {
   "cell_type": "code",
   "execution_count": null,
   "metadata": {},
   "outputs": [],
   "source": []
  },
  {
   "cell_type": "code",
   "execution_count": 156,
   "metadata": {},
   "outputs": [],
   "source": [
    "test_2 = model_2.predict(X_val)"
   ]
  },
  {
   "cell_type": "code",
   "execution_count": 134,
   "metadata": {},
   "outputs": [
    {
     "data": {
      "text/plain": [
       "1216"
      ]
     },
     "execution_count": 134,
     "metadata": {},
     "output_type": "execute_result"
    }
   ],
   "source": [
    "len(test_2[:,0])"
   ]
  },
  {
   "cell_type": "code",
   "execution_count": 135,
   "metadata": {},
   "outputs": [
    {
     "data": {
      "text/plain": [
       "1216"
      ]
     },
     "execution_count": 135,
     "metadata": {},
     "output_type": "execute_result"
    }
   ],
   "source": [
    "len(y_val.iloc[:,0])"
   ]
  },
  {
   "cell_type": "code",
   "execution_count": 141,
   "metadata": {},
   "outputs": [
    {
     "data": {
      "text/plain": [
       "list"
      ]
     },
     "execution_count": 141,
     "metadata": {},
     "output_type": "execute_result"
    }
   ],
   "source": [
    "type(list(y_val.iloc[:,0]))"
   ]
  },
  {
   "cell_type": "code",
   "execution_count": null,
   "metadata": {},
   "outputs": [],
   "source": []
  },
  {
   "cell_type": "code",
   "execution_count": 157,
   "metadata": {},
   "outputs": [
    {
     "data": {
      "image/png": "[encoded data removed]",
      "text/plain": [
       "<Figure size 432x288 with 1 Axes>"
      ]
     },
     "metadata": {
      "needs_background": "light"
     },
     "output_type": "display_data"
    }
   ],
   "source": [
    "test_predictions = model_2.predict(X_val)\n",
    "\n",
    "plt.scatter(x = y_val.iloc[:,2].values.flatten(), y = test_predictions[:,2].flatten())\n",
    "plt.xlabel('True Values [MPG]')\n",
    "plt.ylabel('Predictions [MPG]')\n",
    "plt.axis('equal')\n",
    "plt.axis('square')\n",
    "plt.xlim([0,plt.xlim()[1]])\n",
    "plt.ylim([0,plt.ylim()[1]])\n",
    "_ = plt.plot([-100, 100], [-100, 100])\n"
   ]
  },
  {
   "cell_type": "code",
   "execution_count": 158,
   "metadata": {},
   "outputs": [
    {
     "data": {
      "image/png": "[encoded data removed]",
      "text/plain": [
       "<Figure size 432x288 with 1 Axes>"
      ]
     },
     "metadata": {
      "needs_background": "light"
     },
     "output_type": "display_data"
    }
   ],
   "source": [
    "error = test_predictions[:,2].flatten() - y_val.iloc[:,2].values.flatten()\n",
    "plt.hist(error, bins = 25)\n",
    "plt.xlabel(\"Prediction Error [MPG]\")\n",
    "_ = plt.ylabel(\"Count\")"
   ]
  },
  {
   "cell_type": "code",
   "execution_count": null,
   "metadata": {},
   "outputs": [],
   "source": []
  },
  {
   "cell_type": "code",
   "execution_count": null,
   "metadata": {},
   "outputs": [],
   "source": []
  },
  {
   "cell_type": "code",
   "execution_count": null,
   "metadata": {},
   "outputs": [],
   "source": []
  },
  {
   "cell_type": "code",
   "execution_count": null,
   "metadata": {},
   "outputs": [],
   "source": []
  },
  {
   "cell_type": "markdown",
   "metadata": {},
   "source": [
    "<a id=\"10.Unused Code\"></a>\n",
    "# 10.Unused Code\n",
    "<a href=\"#1.Summary\">Click this Link back to Top</a>"
   ]
  },
  {
   "cell_type": "code",
   "execution_count": null,
   "metadata": {},
   "outputs": [],
   "source": []
  },
  {
   "cell_type": "markdown",
   "metadata": {},
   "source": [
    "1.using question_user_page as benchmark, split quetsion_title or question_body into train_test, we believe different website have different type questions, so we can make evaluate and predict model\n",
    "\n",
    "2.Using unsupervise learning to cluster question into differnt type, culster is depending on data preprocessing granularity. smaller grandularity, more spase cluster\n",
    "\n",
    "3.After i embedding these sentence, you can use KNN SVM to do unsuperviese cluster\n",
    "\n",
    "4.Using categore to cluster by CNN(n-gram / Glove / miniGPT）\n",
    "\n",
    "5.Generage numerical value by former data and compart to anser_well_written\n",
    "\n",
    "6.extract the root url like photo.stackchange.com to try to classfiy it with some argothrim, same question is to catgory column\n",
    "\n",
    "7.If the result is not good enough, try to use url to grab more data to analysis\n",
    "\n",
    "8.The data for this competition includes questions and answers from various StackExchange properties. Your task is to predict target values of 30 labels for each question-answer pair.\n",
    "\n",
    "The list of 30 target labels are the same as the column names in the sample_submission.csv file. Target labels with the prefix question_ relate to the question_title and/or question_body features in the data. Target labels with the prefix answer_ relate to the answer feature.\n",
    "\n",
    "9.for each dataframe maybe we need add category, and that will imporove performance\n",
    "\n",
    "10.Stopword is meaningful for answer sequence, and so as punctuation. Try to only eliminate useless punctuatinon like '\\`' but remain '?'and '!'\n",
    "11.embedding is random initial word vector, but we can use Glove to import pretrain to impove performance\n",
    "\n",
    "12.evalution part try to use BLEU score "
   ]
  },
  {
   "cell_type": "markdown",
   "metadata": {},
   "source": [
    "- https://www.tensorflow.org/tutorials/text/word_embeddings?hl=zh-cn\n",
    "- https://towardsdatascience.com/nlp-building-a-question-answering-model-ed0529a68c54"
   ]
  }
 ],
 "metadata": {
  "kernelspec": {
   "display_name": "Python 3",
   "language": "python",
   "name": "python3"
  },
  "language_info": {
   "codemirror_mode": {
    "name": "ipython",
    "version": 3
   },
   "file_extension": ".py",
   "mimetype": "text/x-python",
   "name": "python",
   "nbconvert_exporter": "python",
   "pygments_lexer": "ipython3",
   "version": "3.7.9"
  }
 },
 "nbformat": 4,
 "nbformat_minor": 4
}
